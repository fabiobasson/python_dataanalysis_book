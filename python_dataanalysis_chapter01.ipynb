{
  "nbformat": 4,
  "nbformat_minor": 0,
  "metadata": {
    "colab": {
      "name": "python-dataanalysis-chapter01.ipynb",
      "provenance": [],
      "collapsed_sections": [],
      "mount_file_id": "1y2aqIx0K8nflhXdnu6FMaF_HS92AHlhE",
      "authorship_tag": "ABX9TyO6UqJ11daiZPHJ+hnS2kxJ",
      "include_colab_link": true
    },
    "kernelspec": {
      "name": "python3",
      "display_name": "Python 3"
    }
  },
  "cells": [
    {
      "cell_type": "markdown",
      "metadata": {
        "id": "view-in-github",
        "colab_type": "text"
      },
      "source": [
        "<a href=\"https://colab.research.google.com/github/fabiobasson/python_dataanalysis_book/blob/main/python_dataanalysis_chapter01.ipynb\" target=\"_parent\"><img src=\"https://colab.research.google.com/assets/colab-badge.svg\" alt=\"Open In Colab\"/></a>"
      ]
    },
    {
      "cell_type": "code",
      "metadata": {
        "id": "rmyyWaz8y3wz"
      },
      "source": [
        "import pandas as pd;"
      ],
      "execution_count": null,
      "outputs": []
    },
    {
      "cell_type": "code",
      "metadata": {
        "id": "PNFm0p_dy6Li"
      },
      "source": [
        "names_1880 = pd.read_csv('yob1880.txt',names=['Nomes','Sexo','Aniversario'])"
      ],
      "execution_count": 76,
      "outputs": []
    },
    {
      "cell_type": "code",
      "metadata": {
        "colab": {
          "base_uri": "https://localhost:8080/",
          "height": 195
        },
        "id": "hhgFQjP1zdit",
        "outputId": "1c94d62f-a688-41b0-819f-de7f748295a3"
      },
      "source": [
        "names_1880.head ()"
      ],
      "execution_count": null,
      "outputs": [
        {
          "output_type": "execute_result",
          "data": {
            "text/html": [
              "<div>\n",
              "<style scoped>\n",
              "    .dataframe tbody tr th:only-of-type {\n",
              "        vertical-align: middle;\n",
              "    }\n",
              "\n",
              "    .dataframe tbody tr th {\n",
              "        vertical-align: top;\n",
              "    }\n",
              "\n",
              "    .dataframe thead th {\n",
              "        text-align: right;\n",
              "    }\n",
              "</style>\n",
              "<table border=\"1\" class=\"dataframe\">\n",
              "  <thead>\n",
              "    <tr style=\"text-align: right;\">\n",
              "      <th></th>\n",
              "      <th>Nomes</th>\n",
              "      <th>Sexo</th>\n",
              "      <th>Aniversario</th>\n",
              "    </tr>\n",
              "  </thead>\n",
              "  <tbody>\n",
              "    <tr>\n",
              "      <th>0</th>\n",
              "      <td>Mary</td>\n",
              "      <td>F</td>\n",
              "      <td>7065</td>\n",
              "    </tr>\n",
              "    <tr>\n",
              "      <th>1</th>\n",
              "      <td>Anna</td>\n",
              "      <td>F</td>\n",
              "      <td>2604</td>\n",
              "    </tr>\n",
              "    <tr>\n",
              "      <th>2</th>\n",
              "      <td>Emma</td>\n",
              "      <td>F</td>\n",
              "      <td>2003</td>\n",
              "    </tr>\n",
              "    <tr>\n",
              "      <th>3</th>\n",
              "      <td>Elizabeth</td>\n",
              "      <td>F</td>\n",
              "      <td>1939</td>\n",
              "    </tr>\n",
              "    <tr>\n",
              "      <th>4</th>\n",
              "      <td>Minnie</td>\n",
              "      <td>F</td>\n",
              "      <td>1746</td>\n",
              "    </tr>\n",
              "  </tbody>\n",
              "</table>\n",
              "</div>"
            ],
            "text/plain": [
              "       Nomes Sexo  Aniversario\n",
              "0       Mary    F         7065\n",
              "1       Anna    F         2604\n",
              "2       Emma    F         2003\n",
              "3  Elizabeth    F         1939\n",
              "4     Minnie    F         1746"
            ]
          },
          "metadata": {
            "tags": []
          },
          "execution_count": 41
        }
      ]
    },
    {
      "cell_type": "code",
      "metadata": {
        "colab": {
          "base_uri": "https://localhost:8080/",
          "height": 402
        },
        "id": "YDuz348QMfAn",
        "outputId": "00194f3a-4588-4f35-9de0-aa3d5a950042"
      },
      "source": [
        "names_1880"
      ],
      "execution_count": null,
      "outputs": [
        {
          "output_type": "execute_result",
          "data": {
            "text/html": [
              "<div>\n",
              "<style scoped>\n",
              "    .dataframe tbody tr th:only-of-type {\n",
              "        vertical-align: middle;\n",
              "    }\n",
              "\n",
              "    .dataframe tbody tr th {\n",
              "        vertical-align: top;\n",
              "    }\n",
              "\n",
              "    .dataframe thead th {\n",
              "        text-align: right;\n",
              "    }\n",
              "</style>\n",
              "<table border=\"1\" class=\"dataframe\">\n",
              "  <thead>\n",
              "    <tr style=\"text-align: right;\">\n",
              "      <th></th>\n",
              "      <th>Nomes</th>\n",
              "      <th>Sexo</th>\n",
              "      <th>Aniversario</th>\n",
              "    </tr>\n",
              "  </thead>\n",
              "  <tbody>\n",
              "    <tr>\n",
              "      <th>0</th>\n",
              "      <td>Mary</td>\n",
              "      <td>F</td>\n",
              "      <td>7065</td>\n",
              "    </tr>\n",
              "    <tr>\n",
              "      <th>1</th>\n",
              "      <td>Anna</td>\n",
              "      <td>F</td>\n",
              "      <td>2604</td>\n",
              "    </tr>\n",
              "    <tr>\n",
              "      <th>2</th>\n",
              "      <td>Emma</td>\n",
              "      <td>F</td>\n",
              "      <td>2003</td>\n",
              "    </tr>\n",
              "    <tr>\n",
              "      <th>3</th>\n",
              "      <td>Elizabeth</td>\n",
              "      <td>F</td>\n",
              "      <td>1939</td>\n",
              "    </tr>\n",
              "    <tr>\n",
              "      <th>4</th>\n",
              "      <td>Minnie</td>\n",
              "      <td>F</td>\n",
              "      <td>1746</td>\n",
              "    </tr>\n",
              "    <tr>\n",
              "      <th>...</th>\n",
              "      <td>...</td>\n",
              "      <td>...</td>\n",
              "      <td>...</td>\n",
              "    </tr>\n",
              "    <tr>\n",
              "      <th>1995</th>\n",
              "      <td>Woodie</td>\n",
              "      <td>M</td>\n",
              "      <td>5</td>\n",
              "    </tr>\n",
              "    <tr>\n",
              "      <th>1996</th>\n",
              "      <td>Worthy</td>\n",
              "      <td>M</td>\n",
              "      <td>5</td>\n",
              "    </tr>\n",
              "    <tr>\n",
              "      <th>1997</th>\n",
              "      <td>Wright</td>\n",
              "      <td>M</td>\n",
              "      <td>5</td>\n",
              "    </tr>\n",
              "    <tr>\n",
              "      <th>1998</th>\n",
              "      <td>York</td>\n",
              "      <td>M</td>\n",
              "      <td>5</td>\n",
              "    </tr>\n",
              "    <tr>\n",
              "      <th>1999</th>\n",
              "      <td>Zachariah</td>\n",
              "      <td>M</td>\n",
              "      <td>5</td>\n",
              "    </tr>\n",
              "  </tbody>\n",
              "</table>\n",
              "<p>2000 rows × 3 columns</p>\n",
              "</div>"
            ],
            "text/plain": [
              "          Nomes Sexo  Aniversario\n",
              "0          Mary    F         7065\n",
              "1          Anna    F         2604\n",
              "2          Emma    F         2003\n",
              "3     Elizabeth    F         1939\n",
              "4        Minnie    F         1746\n",
              "...         ...  ...          ...\n",
              "1995     Woodie    M            5\n",
              "1996     Worthy    M            5\n",
              "1997     Wright    M            5\n",
              "1998       York    M            5\n",
              "1999  Zachariah    M            5\n",
              "\n",
              "[2000 rows x 3 columns]"
            ]
          },
          "metadata": {
            "tags": []
          },
          "execution_count": 42
        }
      ]
    },
    {
      "cell_type": "code",
      "metadata": {
        "colab": {
          "base_uri": "https://localhost:8080/"
        },
        "id": "3zmufqSZMhMV",
        "outputId": "8ea7a133-acb9-4299-a8d3-3aa4c6a323cb"
      },
      "source": [
        "names_1880.groupby('Sexo').Aniversario.sum()"
      ],
      "execution_count": null,
      "outputs": [
        {
          "output_type": "execute_result",
          "data": {
            "text/plain": [
              "Sexo\n",
              "F     90994\n",
              "M    110490\n",
              "Name: Aniversario, dtype: int64"
            ]
          },
          "metadata": {
            "tags": []
          },
          "execution_count": 49
        }
      ]
    },
    {
      "cell_type": "code",
      "metadata": {
        "id": "r-C71xpIOYu5"
      },
      "source": [
        "years=range(1902,2011)\r\n",
        "pieces=[]\r\n",
        "columns = ['Nome', 'Sexo', 'Aniversario']\r\n"
      ],
      "execution_count": 72,
      "outputs": []
    },
    {
      "cell_type": "code",
      "metadata": {
        "id": "dhx17Xe1QHgO"
      },
      "source": [
        "for year in years:\r\n",
        "  path='names/yob%d.txt'  % year\r\n",
        "  frame = pd.read_csv(path,names=columns)\r\n",
        "\r\n",
        "  frame['year'] = year\r\n",
        "  pieces.append(frame)\r\n",
        "\r\n",
        "  names = pd.concat(pieces,ignore_index=True)\r\n"
      ],
      "execution_count": 73,
      "outputs": []
    },
    {
      "cell_type": "code",
      "metadata": {
        "id": "Q2PFp6p4VZNR",
        "colab": {
          "base_uri": "https://localhost:8080/",
          "height": 402
        },
        "outputId": "064f06b5-67ca-4099-9832-64486e025dbd"
      },
      "source": [
        "names\r\n"
      ],
      "execution_count": null,
      "outputs": [
        {
          "output_type": "execute_result",
          "data": {
            "text/html": [
              "<div>\n",
              "<style scoped>\n",
              "    .dataframe tbody tr th:only-of-type {\n",
              "        vertical-align: middle;\n",
              "    }\n",
              "\n",
              "    .dataframe tbody tr th {\n",
              "        vertical-align: top;\n",
              "    }\n",
              "\n",
              "    .dataframe thead th {\n",
              "        text-align: right;\n",
              "    }\n",
              "</style>\n",
              "<table border=\"1\" class=\"dataframe\">\n",
              "  <thead>\n",
              "    <tr style=\"text-align: right;\">\n",
              "      <th></th>\n",
              "      <th>Nome</th>\n",
              "      <th>Sexo</th>\n",
              "      <th>Aniversario</th>\n",
              "      <th>year</th>\n",
              "    </tr>\n",
              "  </thead>\n",
              "  <tbody>\n",
              "    <tr>\n",
              "      <th>0</th>\n",
              "      <td>Mary</td>\n",
              "      <td>F</td>\n",
              "      <td>7065</td>\n",
              "      <td>1879</td>\n",
              "    </tr>\n",
              "    <tr>\n",
              "      <th>1</th>\n",
              "      <td>Anna</td>\n",
              "      <td>F</td>\n",
              "      <td>2604</td>\n",
              "      <td>1879</td>\n",
              "    </tr>\n",
              "    <tr>\n",
              "      <th>2</th>\n",
              "      <td>Emma</td>\n",
              "      <td>F</td>\n",
              "      <td>2003</td>\n",
              "      <td>1879</td>\n",
              "    </tr>\n",
              "    <tr>\n",
              "      <th>3</th>\n",
              "      <td>Elizabeth</td>\n",
              "      <td>F</td>\n",
              "      <td>1939</td>\n",
              "      <td>1879</td>\n",
              "    </tr>\n",
              "    <tr>\n",
              "      <th>4</th>\n",
              "      <td>Minnie</td>\n",
              "      <td>F</td>\n",
              "      <td>1746</td>\n",
              "      <td>1879</td>\n",
              "    </tr>\n",
              "    <tr>\n",
              "      <th>...</th>\n",
              "      <td>...</td>\n",
              "      <td>...</td>\n",
              "      <td>...</td>\n",
              "      <td>...</td>\n",
              "    </tr>\n",
              "    <tr>\n",
              "      <th>1248715</th>\n",
              "      <td>White</td>\n",
              "      <td>M</td>\n",
              "      <td>5</td>\n",
              "      <td>2010</td>\n",
              "    </tr>\n",
              "    <tr>\n",
              "      <th>1248716</th>\n",
              "      <td>Wilhelm</td>\n",
              "      <td>M</td>\n",
              "      <td>5</td>\n",
              "      <td>2010</td>\n",
              "    </tr>\n",
              "    <tr>\n",
              "      <th>1248717</th>\n",
              "      <td>Winifred</td>\n",
              "      <td>M</td>\n",
              "      <td>5</td>\n",
              "      <td>2010</td>\n",
              "    </tr>\n",
              "    <tr>\n",
              "      <th>1248718</th>\n",
              "      <td>Woodie</td>\n",
              "      <td>M</td>\n",
              "      <td>5</td>\n",
              "      <td>2010</td>\n",
              "    </tr>\n",
              "    <tr>\n",
              "      <th>1248719</th>\n",
              "      <td>Zeno</td>\n",
              "      <td>M</td>\n",
              "      <td>5</td>\n",
              "      <td>2010</td>\n",
              "    </tr>\n",
              "  </tbody>\n",
              "</table>\n",
              "<p>1248720 rows × 4 columns</p>\n",
              "</div>"
            ],
            "text/plain": [
              "              Nome Sexo  Aniversario  year\n",
              "0             Mary    F         7065  1879\n",
              "1             Anna    F         2604  1879\n",
              "2             Emma    F         2003  1879\n",
              "3        Elizabeth    F         1939  1879\n",
              "4           Minnie    F         1746  1879\n",
              "...            ...  ...          ...   ...\n",
              "1248715      White    M            5  2010\n",
              "1248716    Wilhelm    M            5  2010\n",
              "1248717   Winifred    M            5  2010\n",
              "1248718     Woodie    M            5  2010\n",
              "1248719       Zeno    M            5  2010\n",
              "\n",
              "[1248720 rows x 4 columns]"
            ]
          },
          "metadata": {
            "tags": []
          },
          "execution_count": 65
        }
      ]
    },
    {
      "cell_type": "code",
      "metadata": {
        "id": "5qc5vDQXcoyu"
      },
      "source": [
        "def add_prop(group):\r\n",
        "  Aniversario = group.Aniversario.astype(float)\r\n",
        "  group['prop']=Aniversario/Aniversario.sum()\r\n",
        "  return group\r\n",
        "\r\n"
      ],
      "execution_count": 80,
      "outputs": []
    },
    {
      "cell_type": "code",
      "metadata": {
        "id": "QfSqkrM-jzk2"
      },
      "source": [
        "names = names.groupby(['year', 'Sexo']).apply(add_prop)"
      ],
      "execution_count": 82,
      "outputs": []
    },
    {
      "cell_type": "code",
      "metadata": {
        "colab": {
          "base_uri": "https://localhost:8080/",
          "height": 402
        },
        "id": "QmzuRhBdkZjh",
        "outputId": "443b744a-388e-433d-f0b2-353657fc70ba"
      },
      "source": [
        "names"
      ],
      "execution_count": 83,
      "outputs": [
        {
          "output_type": "execute_result",
          "data": {
            "text/html": [
              "<div>\n",
              "<style scoped>\n",
              "    .dataframe tbody tr th:only-of-type {\n",
              "        vertical-align: middle;\n",
              "    }\n",
              "\n",
              "    .dataframe tbody tr th {\n",
              "        vertical-align: top;\n",
              "    }\n",
              "\n",
              "    .dataframe thead th {\n",
              "        text-align: right;\n",
              "    }\n",
              "</style>\n",
              "<table border=\"1\" class=\"dataframe\">\n",
              "  <thead>\n",
              "    <tr style=\"text-align: right;\">\n",
              "      <th></th>\n",
              "      <th>Nome</th>\n",
              "      <th>Sexo</th>\n",
              "      <th>Aniversario</th>\n",
              "      <th>year</th>\n",
              "      <th>prop</th>\n",
              "    </tr>\n",
              "  </thead>\n",
              "  <tbody>\n",
              "    <tr>\n",
              "      <th>0</th>\n",
              "      <td>Mary</td>\n",
              "      <td>F</td>\n",
              "      <td>14486</td>\n",
              "      <td>1902</td>\n",
              "      <td>0.054856</td>\n",
              "    </tr>\n",
              "    <tr>\n",
              "      <th>1</th>\n",
              "      <td>Helen</td>\n",
              "      <td>F</td>\n",
              "      <td>5967</td>\n",
              "      <td>1902</td>\n",
              "      <td>0.022596</td>\n",
              "    </tr>\n",
              "    <tr>\n",
              "      <th>2</th>\n",
              "      <td>Anna</td>\n",
              "      <td>F</td>\n",
              "      <td>5288</td>\n",
              "      <td>1902</td>\n",
              "      <td>0.020025</td>\n",
              "    </tr>\n",
              "    <tr>\n",
              "      <th>3</th>\n",
              "      <td>Margaret</td>\n",
              "      <td>F</td>\n",
              "      <td>5011</td>\n",
              "      <td>1902</td>\n",
              "      <td>0.018976</td>\n",
              "    </tr>\n",
              "    <tr>\n",
              "      <th>4</th>\n",
              "      <td>Ruth</td>\n",
              "      <td>F</td>\n",
              "      <td>4384</td>\n",
              "      <td>1902</td>\n",
              "      <td>0.016601</td>\n",
              "    </tr>\n",
              "    <tr>\n",
              "      <th>...</th>\n",
              "      <td>...</td>\n",
              "      <td>...</td>\n",
              "      <td>...</td>\n",
              "      <td>...</td>\n",
              "      <td>...</td>\n",
              "    </tr>\n",
              "    <tr>\n",
              "      <th>1633103</th>\n",
              "      <td>Zymaire</td>\n",
              "      <td>M</td>\n",
              "      <td>5</td>\n",
              "      <td>2010</td>\n",
              "      <td>0.000003</td>\n",
              "    </tr>\n",
              "    <tr>\n",
              "      <th>1633104</th>\n",
              "      <td>Zyonne</td>\n",
              "      <td>M</td>\n",
              "      <td>5</td>\n",
              "      <td>2010</td>\n",
              "      <td>0.000003</td>\n",
              "    </tr>\n",
              "    <tr>\n",
              "      <th>1633105</th>\n",
              "      <td>Zyquarius</td>\n",
              "      <td>M</td>\n",
              "      <td>5</td>\n",
              "      <td>2010</td>\n",
              "      <td>0.000003</td>\n",
              "    </tr>\n",
              "    <tr>\n",
              "      <th>1633106</th>\n",
              "      <td>Zyran</td>\n",
              "      <td>M</td>\n",
              "      <td>5</td>\n",
              "      <td>2010</td>\n",
              "      <td>0.000003</td>\n",
              "    </tr>\n",
              "    <tr>\n",
              "      <th>1633107</th>\n",
              "      <td>Zzyzx</td>\n",
              "      <td>M</td>\n",
              "      <td>5</td>\n",
              "      <td>2010</td>\n",
              "      <td>0.000003</td>\n",
              "    </tr>\n",
              "  </tbody>\n",
              "</table>\n",
              "<p>1633108 rows × 5 columns</p>\n",
              "</div>"
            ],
            "text/plain": [
              "              Nome Sexo  Aniversario  year      prop\n",
              "0             Mary    F        14486  1902  0.054856\n",
              "1            Helen    F         5967  1902  0.022596\n",
              "2             Anna    F         5288  1902  0.020025\n",
              "3         Margaret    F         5011  1902  0.018976\n",
              "4             Ruth    F         4384  1902  0.016601\n",
              "...            ...  ...          ...   ...       ...\n",
              "1633103    Zymaire    M            5  2010  0.000003\n",
              "1633104     Zyonne    M            5  2010  0.000003\n",
              "1633105  Zyquarius    M            5  2010  0.000003\n",
              "1633106      Zyran    M            5  2010  0.000003\n",
              "1633107      Zzyzx    M            5  2010  0.000003\n",
              "\n",
              "[1633108 rows x 5 columns]"
            ]
          },
          "metadata": {
            "tags": []
          },
          "execution_count": 83
        }
      ]
    },
    {
      "cell_type": "code",
      "metadata": {
        "id": "d-zAnZtYkl8a"
      },
      "source": [
        "def get_top1000(group):\r\n",
        "  return group.sort_index(level='Aniversario',ascending=False)[:3]\r\n",
        "\r\n"
      ],
      "execution_count": 134,
      "outputs": []
    },
    {
      "cell_type": "code",
      "metadata": {
        "id": "YRnP2dV_mcDl"
      },
      "source": [
        "grouped = names.groupby(['year', 'Sexo'])\r\n"
      ],
      "execution_count": 135,
      "outputs": []
    },
    {
      "cell_type": "code",
      "metadata": {
        "id": "lem34_n8mmfU"
      },
      "source": [
        "top1000 = grouped.apply(get_top1000)"
      ],
      "execution_count": 136,
      "outputs": []
    },
    {
      "cell_type": "code",
      "metadata": {
        "colab": {
          "base_uri": "https://localhost:8080/",
          "height": 431
        },
        "id": "RfkXkP7Im0zM",
        "outputId": "858da480-bf31-4d65-b057-ebd6f8d46143"
      },
      "source": [
        "top1000"
      ],
      "execution_count": 137,
      "outputs": [
        {
          "output_type": "execute_result",
          "data": {
            "text/html": [
              "<div>\n",
              "<style scoped>\n",
              "    .dataframe tbody tr th:only-of-type {\n",
              "        vertical-align: middle;\n",
              "    }\n",
              "\n",
              "    .dataframe tbody tr th {\n",
              "        vertical-align: top;\n",
              "    }\n",
              "\n",
              "    .dataframe thead th {\n",
              "        text-align: right;\n",
              "    }\n",
              "</style>\n",
              "<table border=\"1\" class=\"dataframe\">\n",
              "  <thead>\n",
              "    <tr style=\"text-align: right;\">\n",
              "      <th></th>\n",
              "      <th></th>\n",
              "      <th></th>\n",
              "      <th>Nome</th>\n",
              "      <th>Sexo</th>\n",
              "      <th>Aniversario</th>\n",
              "      <th>year</th>\n",
              "      <th>prop</th>\n",
              "    </tr>\n",
              "    <tr>\n",
              "      <th>year</th>\n",
              "      <th>Sexo</th>\n",
              "      <th></th>\n",
              "      <th></th>\n",
              "      <th></th>\n",
              "      <th></th>\n",
              "      <th></th>\n",
              "      <th></th>\n",
              "    </tr>\n",
              "  </thead>\n",
              "  <tbody>\n",
              "    <tr>\n",
              "      <th rowspan=\"5\" valign=\"top\">1902</th>\n",
              "      <th rowspan=\"3\" valign=\"top\">F</th>\n",
              "      <th>2041</th>\n",
              "      <td>Zellie</td>\n",
              "      <td>F</td>\n",
              "      <td>5</td>\n",
              "      <td>1902</td>\n",
              "      <td>0.000019</td>\n",
              "    </tr>\n",
              "    <tr>\n",
              "      <th>2040</th>\n",
              "      <td>Yolande</td>\n",
              "      <td>F</td>\n",
              "      <td>5</td>\n",
              "      <td>1902</td>\n",
              "      <td>0.000019</td>\n",
              "    </tr>\n",
              "    <tr>\n",
              "      <th>2039</th>\n",
              "      <td>Wylma</td>\n",
              "      <td>F</td>\n",
              "      <td>5</td>\n",
              "      <td>1902</td>\n",
              "      <td>0.000019</td>\n",
              "    </tr>\n",
              "    <tr>\n",
              "      <th rowspan=\"2\" valign=\"top\">M</th>\n",
              "      <th>3361</th>\n",
              "      <td>Zollie</td>\n",
              "      <td>M</td>\n",
              "      <td>5</td>\n",
              "      <td>1902</td>\n",
              "      <td>0.000041</td>\n",
              "    </tr>\n",
              "    <tr>\n",
              "      <th>3360</th>\n",
              "      <td>Yancy</td>\n",
              "      <td>M</td>\n",
              "      <td>5</td>\n",
              "      <td>1902</td>\n",
              "      <td>0.000041</td>\n",
              "    </tr>\n",
              "    <tr>\n",
              "      <th>...</th>\n",
              "      <th>...</th>\n",
              "      <th>...</th>\n",
              "      <td>...</td>\n",
              "      <td>...</td>\n",
              "      <td>...</td>\n",
              "      <td>...</td>\n",
              "      <td>...</td>\n",
              "    </tr>\n",
              "    <tr>\n",
              "      <th rowspan=\"5\" valign=\"top\">2010</th>\n",
              "      <th rowspan=\"2\" valign=\"top\">F</th>\n",
              "      <th>1618844</th>\n",
              "      <td>Zyriana</td>\n",
              "      <td>F</td>\n",
              "      <td>5</td>\n",
              "      <td>2010</td>\n",
              "      <td>0.000003</td>\n",
              "    </tr>\n",
              "    <tr>\n",
              "      <th>1618843</th>\n",
              "      <td>Zyonnah</td>\n",
              "      <td>F</td>\n",
              "      <td>5</td>\n",
              "      <td>2010</td>\n",
              "      <td>0.000003</td>\n",
              "    </tr>\n",
              "    <tr>\n",
              "      <th rowspan=\"3\" valign=\"top\">M</th>\n",
              "      <th>1633107</th>\n",
              "      <td>Zzyzx</td>\n",
              "      <td>M</td>\n",
              "      <td>5</td>\n",
              "      <td>2010</td>\n",
              "      <td>0.000003</td>\n",
              "    </tr>\n",
              "    <tr>\n",
              "      <th>1633106</th>\n",
              "      <td>Zyran</td>\n",
              "      <td>M</td>\n",
              "      <td>5</td>\n",
              "      <td>2010</td>\n",
              "      <td>0.000003</td>\n",
              "    </tr>\n",
              "    <tr>\n",
              "      <th>1633105</th>\n",
              "      <td>Zyquarius</td>\n",
              "      <td>M</td>\n",
              "      <td>5</td>\n",
              "      <td>2010</td>\n",
              "      <td>0.000003</td>\n",
              "    </tr>\n",
              "  </tbody>\n",
              "</table>\n",
              "<p>654 rows × 5 columns</p>\n",
              "</div>"
            ],
            "text/plain": [
              "                        Nome Sexo  Aniversario  year      prop\n",
              "year Sexo                                                     \n",
              "1902 F    2041        Zellie    F            5  1902  0.000019\n",
              "          2040       Yolande    F            5  1902  0.000019\n",
              "          2039         Wylma    F            5  1902  0.000019\n",
              "     M    3361        Zollie    M            5  1902  0.000041\n",
              "          3360         Yancy    M            5  1902  0.000041\n",
              "...                      ...  ...          ...   ...       ...\n",
              "2010 F    1618844    Zyriana    F            5  2010  0.000003\n",
              "          1618843    Zyonnah    F            5  2010  0.000003\n",
              "     M    1633107      Zzyzx    M            5  2010  0.000003\n",
              "          1633106      Zyran    M            5  2010  0.000003\n",
              "          1633105  Zyquarius    M            5  2010  0.000003\n",
              "\n",
              "[654 rows x 5 columns]"
            ]
          },
          "metadata": {
            "tags": []
          },
          "execution_count": 137
        }
      ]
    },
    {
      "cell_type": "code",
      "metadata": {
        "id": "Ly2Al4dzqA7S"
      },
      "source": [
        ""
      ],
      "execution_count": null,
      "outputs": []
    }
  ]
}